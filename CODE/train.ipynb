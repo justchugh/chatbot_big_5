{
 "cells": [
  {
   "cell_type": "code",
   "execution_count": null,
   "id": "16cca65f",
   "metadata": {},
   "outputs": [],
   "source": [
    "# Importing necessary libraries\n",
    "import numpy as np\n",
    "import pandas as pd\n",
    "import matplotlib.pyplot as plt\n",
    "import seaborn as sns\n",
    "import nltk\n",
    "nltk.download('omw-1.4')\n",
    "from sklearn.feature_extraction.text import CountVectorizer\n",
    "from sklearn.naive_bayes import MultinomialNB\n",
    "from sklearn.metrics import accuracy_score\n",
    "import pickle"
   ]
  },
  {
   "cell_type": "code",
   "execution_count": null,
   "id": "97d3c551",
   "metadata": {},
   "outputs": [],
   "source": [
    "# Load and clean data\n",
    "dataframe = pd.read_csv('newanswers.csv', index_col=False, header=None)\n",
    "x_train = dataframe[0].values\n",
    "y_train = dataframe[1].values\n",
    "x_test = ['I keep care of not leaving my belongings anywhere', 'I try to not leave things anywhere', \"I don't agree about this\", 'I sometimes leave things around', 'I always leave things around']\n",
    "y_test = [5, 4, 2, 4, 1]"
   ]
  },
  {
   "cell_type": "code",
   "execution_count": null,
   "id": "31fa81c6",
   "metadata": {},
   "outputs": [],
   "source": [
    "# Define stopwords and punctuation\n",
    "stopwords = set(nltk.corpus.stopwords.words('english'))\n",
    "punctuation = set(\"!\\\"#$%&'()*+,-./:;<=>?@[\\\\]^_`{|}~\")"
   ]
  },
  {
   "cell_type": "code",
   "execution_count": null,
   "id": "c896d786",
   "metadata": {},
   "outputs": [],
   "source": [
    "# Function to clean text\n",
    "def clean(text):\n",
    "    wn = nltk.WordNetLemmatizer()\n",
    "    tokens = nltk.word_tokenize(text)\n",
    "    lower = [word.lower() for word in tokens]\n",
    "    no_stopwords = [word for word in lower if word not in stopwords]\n",
    "    no_punctuation = [word for word in no_stopwords if word not in punctuation]\n",
    "    lemm_text = [wn.lemmatize(word) for word in no_punctuation]\n",
    "    return lemm_text"
   ]
  },
  {
   "cell_type": "code",
   "execution_count": null,
   "id": "f364a676",
   "metadata": {},
   "outputs": [],
   "source": [
    "# Function to preprocess text\n",
    "def newpre(df):\n",
    "    xnew = []\n",
    "    for i in df:\n",
    "        xnew.append(' '.join(i))\n",
    "    return xnew\n",
    "x_clean = [clean(i) for i in x_train]\n",
    "xnewclean = newpre(x_clean)\n",
    "x_testc = [clean(i) for i in x_test]\n",
    "extestnewclean = newpre(x_testc)"
   ]
  },
  {
   "cell_type": "code",
   "execution_count": null,
   "id": "ef1668fc",
   "metadata": {},
   "outputs": [],
   "source": [
    "# Vectorize text\n",
    "cv = CountVectorizer(ngram_range=(1,2))\n",
    "x_vec = cv.fit_transform(xnewclean).toarray()\n",
    "xt_vec = cv.transform(extestnewclean).toarray()"
   ]
  },
  {
   "cell_type": "code",
   "execution_count": null,
   "id": "a96d2515",
   "metadata": {},
   "outputs": [],
   "source": [
    "# Function to predict using Naive Bayes\n",
    "def predictposneg(df, train, test, test_val):\n",
    "    mn = MultinomialNB()\n",
    "    mn.fit(df, train)\n",
    "    y_pred = mn.predict(test)\n",
    "    filename = 'finalized_model.sav'\n",
    "    pickle.dump(mn, open(filename, 'wb'))\n",
    "    acc = accuracy_score(test_val, y_pred)\n",
    "    return y_pred, acc\n",
    "y_pred, acc = predictposneg(x_vec, y_train, xt_vec, y_test)\n",
    "print(y_pred, acc)"
   ]
  },
  {
   "cell_type": "code",
   "execution_count": null,
   "id": "e4f6e23c",
   "metadata": {},
   "outputs": [],
   "source": [
    "# Example scores\n",
    "scores = [5, 1, 2, 5, 2, 1, 5, 4, 2, 3, 4, 3, 1, 5, 2]\n",
    "fac = {'Openness': 12, 'Conscientiousness': 14, 'Extraversion': 10, 'Agreeableness': 8, 'Neuroticism': 11}\n",
    "print('Check your evaluation below')\n",
    "print('Openness:', fac['Openness'])\n",
    "print('Conscientiousness:', fac['Conscientiousness'])\n",
    "print('Extraversion:', fac['Extraversion'])\n",
    "print('Agreeableness:', fac['Agreeableness'])\n",
    "print('Neuroticism:', fac['Neuroticism'])\n",
    "print('I hope you agree')"
   ]
  }
 ],
 "metadata": {},
 "nbformat": 4,
 "nbformat_minor": 5
}
